{
 "cells": [
  {
   "cell_type": "code",
   "execution_count": 21,
   "metadata": {},
   "outputs": [],
   "source": [
    "import numpy as np\n",
    "import torch\n",
    "import torch.nn as nn\n",
    "import os\n",
    "from torch.utils.data import DataLoader,Dataset\n",
    "import plotly.express as px\n",
    "import plotly.graph_objects as go\n",
    "\n",
    "VER='test'\n",
    "A=100\n",
    "T=96\n",
    "x_shape=(100,50)\n",
    "BATCH_SIZE = 100\n",
    "LEARNING_RATE = 1e-4\n",
    "EPOCHS = 100\n",
    "DEVICE = torch.device(\"cuda\" if torch.cuda.is_available() else \"cpu\")\n",
    "# DEVICE = 'cpu'\n",
    "SEED=24# 设置随机数种子\n",
    "\n",
    "\n",
    "\n",
    "def setup_seed(seed):\n",
    "     torch.manual_seed(seed)\n",
    "     torch.cuda.manual_seed_all(seed)\n",
    "     np.random.seed(seed)\n",
    "     torch.backends.cudnn.deterministic = True\n",
    "setup_seed(SEED)\n",
    "\n",
    "def para_init(x):\n",
    "    para=[]\n",
    "    for i in range(8):\n",
    "        para.append(torch.rand_like(x[:,1]).to(DEVICE))\n",
    "    return para\n",
    "\n",
    "class custom_dataset(Dataset):#需要继承data.Dataset\n",
    "    def __init__(self,size,shape):\n",
    "        self.size=size\n",
    "        self.shape=shape\n",
    "    def __getitem__(self, index):\n",
    "        a=torch.rand(self.shape[0])*self.size[0]\n",
    "        t=torch.rand(self.shape[1])*self.size[1]\n",
    "        return torch.concat((torch.meshgrid(a,t)[0].reshape(-1,1),torch.meshgrid(a,t)[1].reshape(-1,1)),dim=1)[index]\n",
    "    def __len__(self):\n",
    "        return self.shape[0]*self.shape[1]\n",
    "\n",
    "class Net(nn.Module):\n",
    "    def __init__(self,input,output):\n",
    "        super(Net, self).__init__()\n",
    "        self.fc=nn.Sequential(\n",
    "            nn.Linear(input,64),\n",
    "            nn.Tanh(),\n",
    "            nn.Linear(64,64),\n",
    "            nn.Tanh(),\n",
    "            nn.Linear(64,64),\n",
    "            nn.Tanh(),\n",
    "            nn.Linear(64,64),\n",
    "            nn.Tanh(),\n",
    "            nn.Linear(64,64),\n",
    "            nn.Tanh(),\n",
    "            nn.Linear(64,64),\n",
    "            nn.Tanh(),\n",
    "            nn.Linear(64,output),\n",
    "            nn.Softplus()\n",
    "        )\n",
    " \n",
    "    def forward(self, x):\n",
    "        u = self.fc(x)\n",
    "        return u\n",
    "\n",
    "def f(u):\n",
    "    s,i,r,lam=list(u.reshape((4,-1)))\n",
    "    return torch.stack((-(d+(v+theta)*p)*s-s*lam*torch.sum(i)+delta*r,\n",
    "        s*lam*torch.sum(i)-(d+gamma)*i,\n",
    "        (v+theta)*p*s+gamma*i-(d+delta)*r),dim=1)\n",
    "\n",
    "def ode_loss(u,x):\n",
    "    dudx=torch.zeros_like(u[:,:-1])\n",
    "    for i in range(u.shape[1]-1):\n",
    "        dudx[:,i]=torch.sum(torch.autograd.grad(u[:,i], x,grad_outputs=torch.ones_like(u[:,0]),create_graph=True)[0],axis=1)\n",
    "    odeloss=loss_fn(dudx,f(u))\n",
    "    return odeloss\n",
    "\n",
    "def boundary(x):\n",
    "    boundary_t=model(torch.stack((torch.zeros_like(x[:,0]),x[:,1]),dim=1))[:,:3]\n",
    "    boundary_a=model(torch.stack((x[:,1],torch.zeros_like(x[:,0])),dim=1))[:,:3]\n",
    "    return loss_fn(torch.concat((boundary_t,boundary_a),dim=1),torch.stack((b-m,m,torch.zeros_like(m),s0,i0,r0),dim=1))"
   ]
  },
  {
   "cell_type": "code",
   "execution_count": 3,
   "metadata": {},
   "outputs": [
    {
     "name": "stderr",
     "output_type": "stream",
     "text": [
      "/home/aziliza/miniconda3/lib/python3.11/site-packages/torch/functional.py:504: UserWarning: torch.meshgrid: in an upcoming release, it will be required to pass the indexing argument. (Triggered internally at ../aten/src/ATen/native/TensorShape.cpp:3526.)\n",
      "  return _VF.meshgrid(tensors, **kwargs)  # type: ignore[attr-defined]\n"
     ]
    },
    {
     "name": "stdout",
     "output_type": "stream",
     "text": [
      "epoch:10,train loss:9.95652e-01,boundary loss: 1.473e-01,ODE loss: 8.483e-01\n",
      "epoch:20,train loss:3.99764e-01,boundary loss: 1.558e-01,ODE loss: 2.439e-01\n",
      "epoch:30,train loss:2.73534e-01,boundary loss: 1.618e-01,ODE loss: 1.118e-01\n",
      "epoch:40,train loss:2.32755e-01,boundary loss: 1.656e-01,ODE loss: 6.717e-02\n",
      "epoch:50,train loss:2.15129e-01,boundary loss: 1.683e-01,ODE loss: 4.681e-02\n",
      "epoch:60,train loss:2.04301e-01,boundary loss: 1.702e-01,ODE loss: 3.414e-02\n",
      "epoch:70,train loss:1.98349e-01,boundary loss: 1.713e-01,ODE loss: 2.708e-02\n",
      "epoch:80,train loss:1.93894e-01,boundary loss: 1.724e-01,ODE loss: 2.153e-02\n",
      "epoch:90,train loss:1.91936e-01,boundary loss: 1.724e-01,ODE loss: 1.957e-02\n",
      "epoch:100,train loss:1.88621e-01,boundary loss: 1.708e-01,ODE loss: 1.784e-02\n"
     ]
    }
   ],
   "source": [
    "x=torch.rand(x_shape).requires_grad_(True).to(DEVICE)\n",
    "para=para_init(x)\n",
    "d,v,p,theta,delta,b,m,gamma=para\n",
    "s0=torch.rand_like(x[:,1]).to(DEVICE)\n",
    "i0=torch.rand_like(x[:,1]).to(DEVICE)\n",
    "r0=torch.rand_like(x[:,1]).to(DEVICE)\n",
    "\n",
    "\n",
    "\n",
    "model=Net(2,4)\n",
    "model.to(DEVICE)\n",
    "loss_fn =nn.MSELoss()\n",
    "trainLoader=DataLoader(custom_dataset((A,T),x_shape),batch_size=BATCH_SIZE,shuffle=True)\n",
    "\n",
    "optim=torch.optim.Adam(model.parameters(),lr=LEARNING_RATE)\n",
    "start_epoch=0\n",
    "\n",
    "# checkpoint = torch.load(\"./checkpoint/%s/ckpt_best_1000.pth\"%VER)  # 加载断点\n",
    "# model.load_state_dict(checkpoint['net'])  # 加载模型可学习参数\n",
    "# start_epoch = checkpoint['epoch']  # 设置开始的epoch\n",
    "# optim.load_state_dict(checkpoint['optimizer'])  # 加载优化器参数\n",
    "\n",
    "# 训练\n",
    "epoch_train = []  # 存放训练误差\n",
    "os.makedirs('./checkpoint/%s'%VER,exist_ok=True)\n",
    "for epoch in range(start_epoch,EPOCHS):\n",
    "    for x in trainLoader:        # 加载训练集\n",
    "        x_trainData= x.requires_grad_(True).to(DEVICE)\n",
    "        beta=model(x_trainData)[:,2].reshape(-1)\n",
    "        u = model(x_trainData)             # forward\n",
    "        oloss=ode_loss(u,x_trainData)\n",
    "        bloss=boundary(x_trainData)\n",
    "        loss=oloss+bloss  # loss\n",
    "        optim.zero_grad()                          # gradient to zero\n",
    "        loss.backward()                            # backward\n",
    "        optim.step()                               # gradient descent\n",
    " \n",
    "    epoch_train.append(loss.item())\n",
    "    if (epoch+1) % 10 == 0:\n",
    "        print(\"epoch:%d,train loss:%10.5e,boundary loss:%10.3e,ODE loss:%10.3e\" % (epoch+1,loss.item(),bloss.item(),oloss.item()))"
   ]
  },
  {
   "cell_type": "code",
   "execution_count": 23,
   "metadata": {},
   "outputs": [
    {
     "data": {
      "application/vnd.plotly.v1+json": {
       "config": {
        "plotlyServerURL": "https://plot.ly"
       },
       "data": [
        {
         "type": "mesh3d",
         "x": [
          19.168133,
          79.077736,
          66.78415,
          55.795574,
          68.22612,
          28.186142,
          31.298143,
          49.711494,
          23.800701,
          26.05738,
          71.452545,
          40.445007,
          34.52692,
          84.82303,
          1.1385381,
          46.439915,
          86.49871,
          35.859173,
          12.197882,
          36.498283,
          2.1213233,
          57.552032,
          92.34229,
          68.26164,
          38.262337,
          33.522594,
          27.251661,
          73.68634,
          74.55325,
          27.572744,
          41.447292,
          69.81174,
          39.991455,
          81.63926,
          63.457645,
          71.80512,
          89.39415,
          81.75828,
          35.542213,
          70.17709,
          14.7008,
          87.26636,
          74.784676,
          49.47036,
          69.63865,
          64.7014,
          54.69455,
          38.756706,
          48.45647,
          37.833317,
          72.957726,
          30.538792,
          75.55249,
          90.436264,
          99.0727,
          18.85144,
          13.776058,
          19.085651,
          53.286446,
          31.995678,
          34.50027,
          86.407646,
          12.975132,
          50.96637,
          78.63914,
          93.13794,
          50.58209,
          72.91721,
          78.03811,
          12.256837,
          10.266441,
          27.317202,
          10.965502,
          43.965878,
          17.036747,
          38.09863,
          33.391018,
          20.486176,
          21.930195,
          49.891792,
          47.97868,
          81.99606,
          58.89263,
          93.633385,
          74.42966,
          74.836334,
          17.106909,
          42.33323,
          8.192444,
          66.59613,
          53.795807,
          0.5208492,
          11.710703,
          32.473152,
          98.29677,
          11.113948,
          32.134014,
          90.218346,
          43.290424,
          28.540533
         ],
         "y": [
          10.740898,
          40.67032,
          47.32876,
          6.6035614,
          58.239227,
          57.4644,
          92.00661,
          60.06932,
          4.735462,
          57.257133,
          15.416925,
          25.486101,
          5.4852676,
          50.655273,
          79.871895,
          59.01779,
          43.77673,
          21.752901,
          80.95009,
          29.646595,
          62.204933,
          57.27721,
          0.6622009,
          26.789257,
          82.67934,
          16.226097,
          60.69684,
          20.787758,
          64.12187,
          89.74407,
          66.263306,
          74.208954,
          40.116364,
          54.02234,
          88.92697,
          26.879076,
          50.196682,
          18.366028,
          20.136023,
          55.320225,
          94.91573,
          18.478397,
          82.053986,
          35.19828,
          43.232285,
          82.28511,
          73.56755,
          55.532467,
          28.99161,
          70.93778,
          24.14534,
          95.72789,
          40.353485,
          14.903297,
          73.89677,
          38.51409,
          30.768219,
          29.95958,
          68.63991,
          44.87937,
          72.82619,
          34.795837,
          73.804184,
          29.991634,
          34.26541,
          32.75012,
          59.08938,
          16.388786,
          45.970448,
          2.875042,
          2.9434204,
          41.183388,
          46.914566,
          65.5778,
          76.29115,
          77.00167,
          76.65959,
          20.020477,
          60.824013,
          8.212727,
          25.387888,
          1.6334267,
          47.93847,
          36.37966,
          13.32011,
          75.1151,
          38.2813,
          14.589792,
          42.83146,
          33.62023,
          76.94915,
          14.077835,
          49.768448,
          95.389786,
          10.579479,
          79.13938,
          61.629997,
          1.7081623,
          82.54261,
          74.18914
         ],
         "z": [
          0.10745724,
          0.107750766,
          0.10701972,
          0.11182375,
          0.10576563,
          0.10716343,
          0.108207755,
          0.1045953,
          0.11065337,
          0.107383534,
          0.11013955,
          0.10736312,
          0.11135717,
          0.10739854,
          0.11487825,
          0.10514153,
          0.10789252,
          0.107382946,
          0.11314105,
          0.106122784,
          0.11416629,
          0.10453762,
          0.123069204,
          0.10806558,
          0.10739309,
          0.107793026,
          0.1074106,
          0.109259196,
          0.10563922,
          0.10845489,
          0.10650377,
          0.10453596,
          0.1045375,
          0.10738637,
          0.106090724,
          0.10807399,
          0.10740609,
          0.10990584,
          0.10742836,
          0.10650898,
          0.11311114,
          0.11024306,
          0.104536645,
          0.10694445,
          0.10739703,
          0.1051728,
          0.10574324,
          0.10617193,
          0.10739868,
          0.10689819,
          0.108339995,
          0.108332284,
          0.10750197,
          0.11112953,
          0.106689975,
          0.10711854,
          0.1073141,
          0.10641713,
          0.10534167,
          0.105984844,
          0.107313275,
          0.108054936,
          0.11262663,
          0.10740238,
          0.10805318,
          0.108083,
          0.104542755,
          0.10992536,
          0.10739926,
          0.110167526,
          0.109533146,
          0.10635025,
          0.110696256,
          0.106410906,
          0.11092872,
          0.10713651,
          0.10745352,
          0.10470897,
          0.10782837,
          0.11121638,
          0.10752607,
          0.1211599,
          0.10620333,
          0.1080554,
          0.11103859,
          0.1045237,
          0.10735336,
          0.10832293,
          0.11190995,
          0.10781623,
          0.10624139,
          0.11536593,
          0.11067528,
          0.108209155,
          0.11179414,
          0.11327109,
          0.10693197,
          0.12171164,
          0.10696475,
          0.10751575
         ]
        }
       ],
       "layout": {
        "template": {
         "data": {
          "bar": [
           {
            "error_x": {
             "color": "#2a3f5f"
            },
            "error_y": {
             "color": "#2a3f5f"
            },
            "marker": {
             "line": {
              "color": "#E5ECF6",
              "width": 0.5
             },
             "pattern": {
              "fillmode": "overlay",
              "size": 10,
              "solidity": 0.2
             }
            },
            "type": "bar"
           }
          ],
          "barpolar": [
           {
            "marker": {
             "line": {
              "color": "#E5ECF6",
              "width": 0.5
             },
             "pattern": {
              "fillmode": "overlay",
              "size": 10,
              "solidity": 0.2
             }
            },
            "type": "barpolar"
           }
          ],
          "carpet": [
           {
            "aaxis": {
             "endlinecolor": "#2a3f5f",
             "gridcolor": "white",
             "linecolor": "white",
             "minorgridcolor": "white",
             "startlinecolor": "#2a3f5f"
            },
            "baxis": {
             "endlinecolor": "#2a3f5f",
             "gridcolor": "white",
             "linecolor": "white",
             "minorgridcolor": "white",
             "startlinecolor": "#2a3f5f"
            },
            "type": "carpet"
           }
          ],
          "choropleth": [
           {
            "colorbar": {
             "outlinewidth": 0,
             "ticks": ""
            },
            "type": "choropleth"
           }
          ],
          "contour": [
           {
            "colorbar": {
             "outlinewidth": 0,
             "ticks": ""
            },
            "colorscale": [
             [
              0,
              "#0d0887"
             ],
             [
              0.1111111111111111,
              "#46039f"
             ],
             [
              0.2222222222222222,
              "#7201a8"
             ],
             [
              0.3333333333333333,
              "#9c179e"
             ],
             [
              0.4444444444444444,
              "#bd3786"
             ],
             [
              0.5555555555555556,
              "#d8576b"
             ],
             [
              0.6666666666666666,
              "#ed7953"
             ],
             [
              0.7777777777777778,
              "#fb9f3a"
             ],
             [
              0.8888888888888888,
              "#fdca26"
             ],
             [
              1,
              "#f0f921"
             ]
            ],
            "type": "contour"
           }
          ],
          "contourcarpet": [
           {
            "colorbar": {
             "outlinewidth": 0,
             "ticks": ""
            },
            "type": "contourcarpet"
           }
          ],
          "heatmap": [
           {
            "colorbar": {
             "outlinewidth": 0,
             "ticks": ""
            },
            "colorscale": [
             [
              0,
              "#0d0887"
             ],
             [
              0.1111111111111111,
              "#46039f"
             ],
             [
              0.2222222222222222,
              "#7201a8"
             ],
             [
              0.3333333333333333,
              "#9c179e"
             ],
             [
              0.4444444444444444,
              "#bd3786"
             ],
             [
              0.5555555555555556,
              "#d8576b"
             ],
             [
              0.6666666666666666,
              "#ed7953"
             ],
             [
              0.7777777777777778,
              "#fb9f3a"
             ],
             [
              0.8888888888888888,
              "#fdca26"
             ],
             [
              1,
              "#f0f921"
             ]
            ],
            "type": "heatmap"
           }
          ],
          "heatmapgl": [
           {
            "colorbar": {
             "outlinewidth": 0,
             "ticks": ""
            },
            "colorscale": [
             [
              0,
              "#0d0887"
             ],
             [
              0.1111111111111111,
              "#46039f"
             ],
             [
              0.2222222222222222,
              "#7201a8"
             ],
             [
              0.3333333333333333,
              "#9c179e"
             ],
             [
              0.4444444444444444,
              "#bd3786"
             ],
             [
              0.5555555555555556,
              "#d8576b"
             ],
             [
              0.6666666666666666,
              "#ed7953"
             ],
             [
              0.7777777777777778,
              "#fb9f3a"
             ],
             [
              0.8888888888888888,
              "#fdca26"
             ],
             [
              1,
              "#f0f921"
             ]
            ],
            "type": "heatmapgl"
           }
          ],
          "histogram": [
           {
            "marker": {
             "pattern": {
              "fillmode": "overlay",
              "size": 10,
              "solidity": 0.2
             }
            },
            "type": "histogram"
           }
          ],
          "histogram2d": [
           {
            "colorbar": {
             "outlinewidth": 0,
             "ticks": ""
            },
            "colorscale": [
             [
              0,
              "#0d0887"
             ],
             [
              0.1111111111111111,
              "#46039f"
             ],
             [
              0.2222222222222222,
              "#7201a8"
             ],
             [
              0.3333333333333333,
              "#9c179e"
             ],
             [
              0.4444444444444444,
              "#bd3786"
             ],
             [
              0.5555555555555556,
              "#d8576b"
             ],
             [
              0.6666666666666666,
              "#ed7953"
             ],
             [
              0.7777777777777778,
              "#fb9f3a"
             ],
             [
              0.8888888888888888,
              "#fdca26"
             ],
             [
              1,
              "#f0f921"
             ]
            ],
            "type": "histogram2d"
           }
          ],
          "histogram2dcontour": [
           {
            "colorbar": {
             "outlinewidth": 0,
             "ticks": ""
            },
            "colorscale": [
             [
              0,
              "#0d0887"
             ],
             [
              0.1111111111111111,
              "#46039f"
             ],
             [
              0.2222222222222222,
              "#7201a8"
             ],
             [
              0.3333333333333333,
              "#9c179e"
             ],
             [
              0.4444444444444444,
              "#bd3786"
             ],
             [
              0.5555555555555556,
              "#d8576b"
             ],
             [
              0.6666666666666666,
              "#ed7953"
             ],
             [
              0.7777777777777778,
              "#fb9f3a"
             ],
             [
              0.8888888888888888,
              "#fdca26"
             ],
             [
              1,
              "#f0f921"
             ]
            ],
            "type": "histogram2dcontour"
           }
          ],
          "mesh3d": [
           {
            "colorbar": {
             "outlinewidth": 0,
             "ticks": ""
            },
            "type": "mesh3d"
           }
          ],
          "parcoords": [
           {
            "line": {
             "colorbar": {
              "outlinewidth": 0,
              "ticks": ""
             }
            },
            "type": "parcoords"
           }
          ],
          "pie": [
           {
            "automargin": true,
            "type": "pie"
           }
          ],
          "scatter": [
           {
            "fillpattern": {
             "fillmode": "overlay",
             "size": 10,
             "solidity": 0.2
            },
            "type": "scatter"
           }
          ],
          "scatter3d": [
           {
            "line": {
             "colorbar": {
              "outlinewidth": 0,
              "ticks": ""
             }
            },
            "marker": {
             "colorbar": {
              "outlinewidth": 0,
              "ticks": ""
             }
            },
            "type": "scatter3d"
           }
          ],
          "scattercarpet": [
           {
            "marker": {
             "colorbar": {
              "outlinewidth": 0,
              "ticks": ""
             }
            },
            "type": "scattercarpet"
           }
          ],
          "scattergeo": [
           {
            "marker": {
             "colorbar": {
              "outlinewidth": 0,
              "ticks": ""
             }
            },
            "type": "scattergeo"
           }
          ],
          "scattergl": [
           {
            "marker": {
             "colorbar": {
              "outlinewidth": 0,
              "ticks": ""
             }
            },
            "type": "scattergl"
           }
          ],
          "scattermapbox": [
           {
            "marker": {
             "colorbar": {
              "outlinewidth": 0,
              "ticks": ""
             }
            },
            "type": "scattermapbox"
           }
          ],
          "scatterpolar": [
           {
            "marker": {
             "colorbar": {
              "outlinewidth": 0,
              "ticks": ""
             }
            },
            "type": "scatterpolar"
           }
          ],
          "scatterpolargl": [
           {
            "marker": {
             "colorbar": {
              "outlinewidth": 0,
              "ticks": ""
             }
            },
            "type": "scatterpolargl"
           }
          ],
          "scatterternary": [
           {
            "marker": {
             "colorbar": {
              "outlinewidth": 0,
              "ticks": ""
             }
            },
            "type": "scatterternary"
           }
          ],
          "surface": [
           {
            "colorbar": {
             "outlinewidth": 0,
             "ticks": ""
            },
            "colorscale": [
             [
              0,
              "#0d0887"
             ],
             [
              0.1111111111111111,
              "#46039f"
             ],
             [
              0.2222222222222222,
              "#7201a8"
             ],
             [
              0.3333333333333333,
              "#9c179e"
             ],
             [
              0.4444444444444444,
              "#bd3786"
             ],
             [
              0.5555555555555556,
              "#d8576b"
             ],
             [
              0.6666666666666666,
              "#ed7953"
             ],
             [
              0.7777777777777778,
              "#fb9f3a"
             ],
             [
              0.8888888888888888,
              "#fdca26"
             ],
             [
              1,
              "#f0f921"
             ]
            ],
            "type": "surface"
           }
          ],
          "table": [
           {
            "cells": {
             "fill": {
              "color": "#EBF0F8"
             },
             "line": {
              "color": "white"
             }
            },
            "header": {
             "fill": {
              "color": "#C8D4E3"
             },
             "line": {
              "color": "white"
             }
            },
            "type": "table"
           }
          ]
         },
         "layout": {
          "annotationdefaults": {
           "arrowcolor": "#2a3f5f",
           "arrowhead": 0,
           "arrowwidth": 1
          },
          "autotypenumbers": "strict",
          "coloraxis": {
           "colorbar": {
            "outlinewidth": 0,
            "ticks": ""
           }
          },
          "colorscale": {
           "diverging": [
            [
             0,
             "#8e0152"
            ],
            [
             0.1,
             "#c51b7d"
            ],
            [
             0.2,
             "#de77ae"
            ],
            [
             0.3,
             "#f1b6da"
            ],
            [
             0.4,
             "#fde0ef"
            ],
            [
             0.5,
             "#f7f7f7"
            ],
            [
             0.6,
             "#e6f5d0"
            ],
            [
             0.7,
             "#b8e186"
            ],
            [
             0.8,
             "#7fbc41"
            ],
            [
             0.9,
             "#4d9221"
            ],
            [
             1,
             "#276419"
            ]
           ],
           "sequential": [
            [
             0,
             "#0d0887"
            ],
            [
             0.1111111111111111,
             "#46039f"
            ],
            [
             0.2222222222222222,
             "#7201a8"
            ],
            [
             0.3333333333333333,
             "#9c179e"
            ],
            [
             0.4444444444444444,
             "#bd3786"
            ],
            [
             0.5555555555555556,
             "#d8576b"
            ],
            [
             0.6666666666666666,
             "#ed7953"
            ],
            [
             0.7777777777777778,
             "#fb9f3a"
            ],
            [
             0.8888888888888888,
             "#fdca26"
            ],
            [
             1,
             "#f0f921"
            ]
           ],
           "sequentialminus": [
            [
             0,
             "#0d0887"
            ],
            [
             0.1111111111111111,
             "#46039f"
            ],
            [
             0.2222222222222222,
             "#7201a8"
            ],
            [
             0.3333333333333333,
             "#9c179e"
            ],
            [
             0.4444444444444444,
             "#bd3786"
            ],
            [
             0.5555555555555556,
             "#d8576b"
            ],
            [
             0.6666666666666666,
             "#ed7953"
            ],
            [
             0.7777777777777778,
             "#fb9f3a"
            ],
            [
             0.8888888888888888,
             "#fdca26"
            ],
            [
             1,
             "#f0f921"
            ]
           ]
          },
          "colorway": [
           "#636efa",
           "#EF553B",
           "#00cc96",
           "#ab63fa",
           "#FFA15A",
           "#19d3f3",
           "#FF6692",
           "#B6E880",
           "#FF97FF",
           "#FECB52"
          ],
          "font": {
           "color": "#2a3f5f"
          },
          "geo": {
           "bgcolor": "white",
           "lakecolor": "white",
           "landcolor": "#E5ECF6",
           "showlakes": true,
           "showland": true,
           "subunitcolor": "white"
          },
          "hoverlabel": {
           "align": "left"
          },
          "hovermode": "closest",
          "mapbox": {
           "style": "light"
          },
          "paper_bgcolor": "white",
          "plot_bgcolor": "#E5ECF6",
          "polar": {
           "angularaxis": {
            "gridcolor": "white",
            "linecolor": "white",
            "ticks": ""
           },
           "bgcolor": "#E5ECF6",
           "radialaxis": {
            "gridcolor": "white",
            "linecolor": "white",
            "ticks": ""
           }
          },
          "scene": {
           "xaxis": {
            "backgroundcolor": "#E5ECF6",
            "gridcolor": "white",
            "gridwidth": 2,
            "linecolor": "white",
            "showbackground": true,
            "ticks": "",
            "zerolinecolor": "white"
           },
           "yaxis": {
            "backgroundcolor": "#E5ECF6",
            "gridcolor": "white",
            "gridwidth": 2,
            "linecolor": "white",
            "showbackground": true,
            "ticks": "",
            "zerolinecolor": "white"
           },
           "zaxis": {
            "backgroundcolor": "#E5ECF6",
            "gridcolor": "white",
            "gridwidth": 2,
            "linecolor": "white",
            "showbackground": true,
            "ticks": "",
            "zerolinecolor": "white"
           }
          },
          "shapedefaults": {
           "line": {
            "color": "#2a3f5f"
           }
          },
          "ternary": {
           "aaxis": {
            "gridcolor": "white",
            "linecolor": "white",
            "ticks": ""
           },
           "baxis": {
            "gridcolor": "white",
            "linecolor": "white",
            "ticks": ""
           },
           "bgcolor": "#E5ECF6",
           "caxis": {
            "gridcolor": "white",
            "linecolor": "white",
            "ticks": ""
           }
          },
          "title": {
           "x": 0.05
          },
          "xaxis": {
           "automargin": true,
           "gridcolor": "white",
           "linecolor": "white",
           "ticks": "",
           "title": {
            "standoff": 15
           },
           "zerolinecolor": "white",
           "zerolinewidth": 2
          },
          "yaxis": {
           "automargin": true,
           "gridcolor": "white",
           "linecolor": "white",
           "ticks": "",
           "title": {
            "standoff": 15
           },
           "zerolinecolor": "white",
           "zerolinewidth": 2
          }
         }
        }
       }
      },
      "text/html": [
       "<div>                            <div id=\"89d99a0b-799d-4825-82f5-d4a6378e0487\" class=\"plotly-graph-div\" style=\"height:525px; width:100%;\"></div>            <script type=\"text/javascript\">                require([\"plotly\"], function(Plotly) {                    window.PLOTLYENV=window.PLOTLYENV || {};                                    if (document.getElementById(\"89d99a0b-799d-4825-82f5-d4a6378e0487\")) {                    Plotly.newPlot(                        \"89d99a0b-799d-4825-82f5-d4a6378e0487\",                        [{\"x\":[19.168133,79.077736,66.78415,55.795574,68.22612,28.186142,31.298143,49.711494,23.800701,26.05738,71.452545,40.445007,34.52692,84.82303,1.1385381,46.439915,86.49871,35.859173,12.197882,36.498283,2.1213233,57.552032,92.34229,68.26164,38.262337,33.522594,27.251661,73.68634,74.55325,27.572744,41.447292,69.81174,39.991455,81.63926,63.457645,71.80512,89.39415,81.75828,35.542213,70.17709,14.7008,87.26636,74.784676,49.47036,69.63865,64.7014,54.69455,38.756706,48.45647,37.833317,72.957726,30.538792,75.55249,90.436264,99.0727,18.85144,13.776058,19.085651,53.286446,31.995678,34.50027,86.407646,12.975132,50.96637,78.63914,93.13794,50.58209,72.91721,78.03811,12.256837,10.266441,27.317202,10.965502,43.965878,17.036747,38.09863,33.391018,20.486176,21.930195,49.891792,47.97868,81.99606,58.89263,93.633385,74.42966,74.836334,17.106909,42.33323,8.192444,66.59613,53.795807,0.5208492,11.710703,32.473152,98.29677,11.113948,32.134014,90.218346,43.290424,28.540533],\"y\":[10.740898,40.67032,47.32876,6.6035614,58.239227,57.4644,92.00661,60.06932,4.735462,57.257133,15.416925,25.486101,5.4852676,50.655273,79.871895,59.01779,43.77673,21.752901,80.95009,29.646595,62.204933,57.27721,0.6622009,26.789257,82.67934,16.226097,60.69684,20.787758,64.12187,89.74407,66.263306,74.208954,40.116364,54.02234,88.92697,26.879076,50.196682,18.366028,20.136023,55.320225,94.91573,18.478397,82.053986,35.19828,43.232285,82.28511,73.56755,55.532467,28.99161,70.93778,24.14534,95.72789,40.353485,14.903297,73.89677,38.51409,30.768219,29.95958,68.63991,44.87937,72.82619,34.795837,73.804184,29.991634,34.26541,32.75012,59.08938,16.388786,45.970448,2.875042,2.9434204,41.183388,46.914566,65.5778,76.29115,77.00167,76.65959,20.020477,60.824013,8.212727,25.387888,1.6334267,47.93847,36.37966,13.32011,75.1151,38.2813,14.589792,42.83146,33.62023,76.94915,14.077835,49.768448,95.389786,10.579479,79.13938,61.629997,1.7081623,82.54261,74.18914],\"z\":[0.10745724,0.107750766,0.10701972,0.11182375,0.10576563,0.10716343,0.108207755,0.1045953,0.11065337,0.107383534,0.11013955,0.10736312,0.11135717,0.10739854,0.11487825,0.10514153,0.10789252,0.107382946,0.11314105,0.106122784,0.11416629,0.10453762,0.123069204,0.10806558,0.10739309,0.107793026,0.1074106,0.109259196,0.10563922,0.10845489,0.10650377,0.10453596,0.1045375,0.10738637,0.106090724,0.10807399,0.10740609,0.10990584,0.10742836,0.10650898,0.11311114,0.11024306,0.104536645,0.10694445,0.10739703,0.1051728,0.10574324,0.10617193,0.10739868,0.10689819,0.108339995,0.108332284,0.10750197,0.11112953,0.106689975,0.10711854,0.1073141,0.10641713,0.10534167,0.105984844,0.107313275,0.108054936,0.11262663,0.10740238,0.10805318,0.108083,0.104542755,0.10992536,0.10739926,0.110167526,0.109533146,0.10635025,0.110696256,0.106410906,0.11092872,0.10713651,0.10745352,0.10470897,0.10782837,0.11121638,0.10752607,0.1211599,0.10620333,0.1080554,0.11103859,0.1045237,0.10735336,0.10832293,0.11190995,0.10781623,0.10624139,0.11536593,0.11067528,0.108209155,0.11179414,0.11327109,0.10693197,0.12171164,0.10696475,0.10751575],\"type\":\"mesh3d\"}],                        {\"template\":{\"data\":{\"histogram2dcontour\":[{\"type\":\"histogram2dcontour\",\"colorbar\":{\"outlinewidth\":0,\"ticks\":\"\"},\"colorscale\":[[0.0,\"#0d0887\"],[0.1111111111111111,\"#46039f\"],[0.2222222222222222,\"#7201a8\"],[0.3333333333333333,\"#9c179e\"],[0.4444444444444444,\"#bd3786\"],[0.5555555555555556,\"#d8576b\"],[0.6666666666666666,\"#ed7953\"],[0.7777777777777778,\"#fb9f3a\"],[0.8888888888888888,\"#fdca26\"],[1.0,\"#f0f921\"]]}],\"choropleth\":[{\"type\":\"choropleth\",\"colorbar\":{\"outlinewidth\":0,\"ticks\":\"\"}}],\"histogram2d\":[{\"type\":\"histogram2d\",\"colorbar\":{\"outlinewidth\":0,\"ticks\":\"\"},\"colorscale\":[[0.0,\"#0d0887\"],[0.1111111111111111,\"#46039f\"],[0.2222222222222222,\"#7201a8\"],[0.3333333333333333,\"#9c179e\"],[0.4444444444444444,\"#bd3786\"],[0.5555555555555556,\"#d8576b\"],[0.6666666666666666,\"#ed7953\"],[0.7777777777777778,\"#fb9f3a\"],[0.8888888888888888,\"#fdca26\"],[1.0,\"#f0f921\"]]}],\"heatmap\":[{\"type\":\"heatmap\",\"colorbar\":{\"outlinewidth\":0,\"ticks\":\"\"},\"colorscale\":[[0.0,\"#0d0887\"],[0.1111111111111111,\"#46039f\"],[0.2222222222222222,\"#7201a8\"],[0.3333333333333333,\"#9c179e\"],[0.4444444444444444,\"#bd3786\"],[0.5555555555555556,\"#d8576b\"],[0.6666666666666666,\"#ed7953\"],[0.7777777777777778,\"#fb9f3a\"],[0.8888888888888888,\"#fdca26\"],[1.0,\"#f0f921\"]]}],\"heatmapgl\":[{\"type\":\"heatmapgl\",\"colorbar\":{\"outlinewidth\":0,\"ticks\":\"\"},\"colorscale\":[[0.0,\"#0d0887\"],[0.1111111111111111,\"#46039f\"],[0.2222222222222222,\"#7201a8\"],[0.3333333333333333,\"#9c179e\"],[0.4444444444444444,\"#bd3786\"],[0.5555555555555556,\"#d8576b\"],[0.6666666666666666,\"#ed7953\"],[0.7777777777777778,\"#fb9f3a\"],[0.8888888888888888,\"#fdca26\"],[1.0,\"#f0f921\"]]}],\"contourcarpet\":[{\"type\":\"contourcarpet\",\"colorbar\":{\"outlinewidth\":0,\"ticks\":\"\"}}],\"contour\":[{\"type\":\"contour\",\"colorbar\":{\"outlinewidth\":0,\"ticks\":\"\"},\"colorscale\":[[0.0,\"#0d0887\"],[0.1111111111111111,\"#46039f\"],[0.2222222222222222,\"#7201a8\"],[0.3333333333333333,\"#9c179e\"],[0.4444444444444444,\"#bd3786\"],[0.5555555555555556,\"#d8576b\"],[0.6666666666666666,\"#ed7953\"],[0.7777777777777778,\"#fb9f3a\"],[0.8888888888888888,\"#fdca26\"],[1.0,\"#f0f921\"]]}],\"surface\":[{\"type\":\"surface\",\"colorbar\":{\"outlinewidth\":0,\"ticks\":\"\"},\"colorscale\":[[0.0,\"#0d0887\"],[0.1111111111111111,\"#46039f\"],[0.2222222222222222,\"#7201a8\"],[0.3333333333333333,\"#9c179e\"],[0.4444444444444444,\"#bd3786\"],[0.5555555555555556,\"#d8576b\"],[0.6666666666666666,\"#ed7953\"],[0.7777777777777778,\"#fb9f3a\"],[0.8888888888888888,\"#fdca26\"],[1.0,\"#f0f921\"]]}],\"mesh3d\":[{\"type\":\"mesh3d\",\"colorbar\":{\"outlinewidth\":0,\"ticks\":\"\"}}],\"scatter\":[{\"fillpattern\":{\"fillmode\":\"overlay\",\"size\":10,\"solidity\":0.2},\"type\":\"scatter\"}],\"parcoords\":[{\"type\":\"parcoords\",\"line\":{\"colorbar\":{\"outlinewidth\":0,\"ticks\":\"\"}}}],\"scatterpolargl\":[{\"type\":\"scatterpolargl\",\"marker\":{\"colorbar\":{\"outlinewidth\":0,\"ticks\":\"\"}}}],\"bar\":[{\"error_x\":{\"color\":\"#2a3f5f\"},\"error_y\":{\"color\":\"#2a3f5f\"},\"marker\":{\"line\":{\"color\":\"#E5ECF6\",\"width\":0.5},\"pattern\":{\"fillmode\":\"overlay\",\"size\":10,\"solidity\":0.2}},\"type\":\"bar\"}],\"scattergeo\":[{\"type\":\"scattergeo\",\"marker\":{\"colorbar\":{\"outlinewidth\":0,\"ticks\":\"\"}}}],\"scatterpolar\":[{\"type\":\"scatterpolar\",\"marker\":{\"colorbar\":{\"outlinewidth\":0,\"ticks\":\"\"}}}],\"histogram\":[{\"marker\":{\"pattern\":{\"fillmode\":\"overlay\",\"size\":10,\"solidity\":0.2}},\"type\":\"histogram\"}],\"scattergl\":[{\"type\":\"scattergl\",\"marker\":{\"colorbar\":{\"outlinewidth\":0,\"ticks\":\"\"}}}],\"scatter3d\":[{\"type\":\"scatter3d\",\"line\":{\"colorbar\":{\"outlinewidth\":0,\"ticks\":\"\"}},\"marker\":{\"colorbar\":{\"outlinewidth\":0,\"ticks\":\"\"}}}],\"scattermapbox\":[{\"type\":\"scattermapbox\",\"marker\":{\"colorbar\":{\"outlinewidth\":0,\"ticks\":\"\"}}}],\"scatterternary\":[{\"type\":\"scatterternary\",\"marker\":{\"colorbar\":{\"outlinewidth\":0,\"ticks\":\"\"}}}],\"scattercarpet\":[{\"type\":\"scattercarpet\",\"marker\":{\"colorbar\":{\"outlinewidth\":0,\"ticks\":\"\"}}}],\"carpet\":[{\"aaxis\":{\"endlinecolor\":\"#2a3f5f\",\"gridcolor\":\"white\",\"linecolor\":\"white\",\"minorgridcolor\":\"white\",\"startlinecolor\":\"#2a3f5f\"},\"baxis\":{\"endlinecolor\":\"#2a3f5f\",\"gridcolor\":\"white\",\"linecolor\":\"white\",\"minorgridcolor\":\"white\",\"startlinecolor\":\"#2a3f5f\"},\"type\":\"carpet\"}],\"table\":[{\"cells\":{\"fill\":{\"color\":\"#EBF0F8\"},\"line\":{\"color\":\"white\"}},\"header\":{\"fill\":{\"color\":\"#C8D4E3\"},\"line\":{\"color\":\"white\"}},\"type\":\"table\"}],\"barpolar\":[{\"marker\":{\"line\":{\"color\":\"#E5ECF6\",\"width\":0.5},\"pattern\":{\"fillmode\":\"overlay\",\"size\":10,\"solidity\":0.2}},\"type\":\"barpolar\"}],\"pie\":[{\"automargin\":true,\"type\":\"pie\"}]},\"layout\":{\"autotypenumbers\":\"strict\",\"colorway\":[\"#636efa\",\"#EF553B\",\"#00cc96\",\"#ab63fa\",\"#FFA15A\",\"#19d3f3\",\"#FF6692\",\"#B6E880\",\"#FF97FF\",\"#FECB52\"],\"font\":{\"color\":\"#2a3f5f\"},\"hovermode\":\"closest\",\"hoverlabel\":{\"align\":\"left\"},\"paper_bgcolor\":\"white\",\"plot_bgcolor\":\"#E5ECF6\",\"polar\":{\"bgcolor\":\"#E5ECF6\",\"angularaxis\":{\"gridcolor\":\"white\",\"linecolor\":\"white\",\"ticks\":\"\"},\"radialaxis\":{\"gridcolor\":\"white\",\"linecolor\":\"white\",\"ticks\":\"\"}},\"ternary\":{\"bgcolor\":\"#E5ECF6\",\"aaxis\":{\"gridcolor\":\"white\",\"linecolor\":\"white\",\"ticks\":\"\"},\"baxis\":{\"gridcolor\":\"white\",\"linecolor\":\"white\",\"ticks\":\"\"},\"caxis\":{\"gridcolor\":\"white\",\"linecolor\":\"white\",\"ticks\":\"\"}},\"coloraxis\":{\"colorbar\":{\"outlinewidth\":0,\"ticks\":\"\"}},\"colorscale\":{\"sequential\":[[0.0,\"#0d0887\"],[0.1111111111111111,\"#46039f\"],[0.2222222222222222,\"#7201a8\"],[0.3333333333333333,\"#9c179e\"],[0.4444444444444444,\"#bd3786\"],[0.5555555555555556,\"#d8576b\"],[0.6666666666666666,\"#ed7953\"],[0.7777777777777778,\"#fb9f3a\"],[0.8888888888888888,\"#fdca26\"],[1.0,\"#f0f921\"]],\"sequentialminus\":[[0.0,\"#0d0887\"],[0.1111111111111111,\"#46039f\"],[0.2222222222222222,\"#7201a8\"],[0.3333333333333333,\"#9c179e\"],[0.4444444444444444,\"#bd3786\"],[0.5555555555555556,\"#d8576b\"],[0.6666666666666666,\"#ed7953\"],[0.7777777777777778,\"#fb9f3a\"],[0.8888888888888888,\"#fdca26\"],[1.0,\"#f0f921\"]],\"diverging\":[[0,\"#8e0152\"],[0.1,\"#c51b7d\"],[0.2,\"#de77ae\"],[0.3,\"#f1b6da\"],[0.4,\"#fde0ef\"],[0.5,\"#f7f7f7\"],[0.6,\"#e6f5d0\"],[0.7,\"#b8e186\"],[0.8,\"#7fbc41\"],[0.9,\"#4d9221\"],[1,\"#276419\"]]},\"xaxis\":{\"gridcolor\":\"white\",\"linecolor\":\"white\",\"ticks\":\"\",\"title\":{\"standoff\":15},\"zerolinecolor\":\"white\",\"automargin\":true,\"zerolinewidth\":2},\"yaxis\":{\"gridcolor\":\"white\",\"linecolor\":\"white\",\"ticks\":\"\",\"title\":{\"standoff\":15},\"zerolinecolor\":\"white\",\"automargin\":true,\"zerolinewidth\":2},\"scene\":{\"xaxis\":{\"backgroundcolor\":\"#E5ECF6\",\"gridcolor\":\"white\",\"linecolor\":\"white\",\"showbackground\":true,\"ticks\":\"\",\"zerolinecolor\":\"white\",\"gridwidth\":2},\"yaxis\":{\"backgroundcolor\":\"#E5ECF6\",\"gridcolor\":\"white\",\"linecolor\":\"white\",\"showbackground\":true,\"ticks\":\"\",\"zerolinecolor\":\"white\",\"gridwidth\":2},\"zaxis\":{\"backgroundcolor\":\"#E5ECF6\",\"gridcolor\":\"white\",\"linecolor\":\"white\",\"showbackground\":true,\"ticks\":\"\",\"zerolinecolor\":\"white\",\"gridwidth\":2}},\"shapedefaults\":{\"line\":{\"color\":\"#2a3f5f\"}},\"annotationdefaults\":{\"arrowcolor\":\"#2a3f5f\",\"arrowhead\":0,\"arrowwidth\":1},\"geo\":{\"bgcolor\":\"white\",\"landcolor\":\"#E5ECF6\",\"subunitcolor\":\"white\",\"showland\":true,\"showlakes\":true,\"lakecolor\":\"white\"},\"title\":{\"x\":0.05},\"mapbox\":{\"style\":\"light\"}}}},                        {\"responsive\": true}                    ).then(function(){\n",
       "                            \n",
       "var gd = document.getElementById('89d99a0b-799d-4825-82f5-d4a6378e0487');\n",
       "var x = new MutationObserver(function (mutations, observer) {{\n",
       "        var display = window.getComputedStyle(gd).display;\n",
       "        if (!display || display === 'none') {{\n",
       "            console.log([gd, 'removed!']);\n",
       "            Plotly.purge(gd);\n",
       "            observer.disconnect();\n",
       "        }}\n",
       "}});\n",
       "\n",
       "// Listen for the removal of the full notebook cells\n",
       "var notebookContainer = gd.closest('#notebook-container');\n",
       "if (notebookContainer) {{\n",
       "    x.observe(notebookContainer, {childList: true});\n",
       "}}\n",
       "\n",
       "// Listen for the clearing of the current output cell\n",
       "var outputEl = gd.closest('.output');\n",
       "if (outputEl) {{\n",
       "    x.observe(outputEl, {childList: true});\n",
       "}}\n",
       "\n",
       "                        })                };                });            </script>        </div>"
      ]
     },
     "metadata": {},
     "output_type": "display_data"
    }
   ],
   "source": [
    "fig = go.Figure(data=[go.Mesh3d(x=x.cpu().detach().numpy()[:,0],y=x.cpu().detach().numpy()[:,1],z=u.cpu().detach().numpy()[:,0])])\n",
    "fig.show()"
   ]
  }
 ],
 "metadata": {
  "kernelspec": {
   "display_name": "base",
   "language": "python",
   "name": "python3"
  },
  "language_info": {
   "codemirror_mode": {
    "name": "ipython",
    "version": 3
   },
   "file_extension": ".py",
   "mimetype": "text/x-python",
   "name": "python",
   "nbconvert_exporter": "python",
   "pygments_lexer": "ipython3",
   "version": "3.11.4"
  }
 },
 "nbformat": 4,
 "nbformat_minor": 2
}
